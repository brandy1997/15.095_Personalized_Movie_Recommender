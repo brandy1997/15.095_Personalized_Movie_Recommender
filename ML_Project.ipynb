{
 "cells": [
  {
   "cell_type": "markdown",
   "metadata": {},
   "source": [
    "# Machine Learning Project - Personalized movie recommender system\n",
    "\n",
    "### Brandy Piao, Alessandro Previero "
   ]
  },
  {
   "cell_type": "markdown",
   "metadata": {},
   "source": [
    "## Movie features collection from TMDB"
   ]
  },
  {
   "cell_type": "code",
   "execution_count": 7,
   "metadata": {},
   "outputs": [],
   "source": [
    "tmdb = TMDb()\n",
    "tmdb.api_key = '649a7714c6dfe32d9943fdc837c42c00'"
   ]
  },
  {
   "cell_type": "code",
   "execution_count": 8,
   "metadata": {},
   "outputs": [],
   "source": [
    "# IMPORT REQUIRED PACKAGES \n",
    "import pandas as pd\n",
    "import time\n",
    "import numpy as np\n",
    "from tmdbv3api import TMDb\n",
    "from tmdbv3api import Movie"
   ]
  },
  {
   "cell_type": "code",
   "execution_count": 9,
   "metadata": {},
   "outputs": [],
   "source": [
    "# LOAD and PRE-PROCESS TMDB MOVIE KEYS \n",
    "links = pd.read_csv(\"links.csv\")\n",
    "TM_id = links.iloc[:,2].dropna().astype('int64').reset_index();"
   ]
  },
  {
   "cell_type": "code",
   "execution_count": 23,
   "metadata": {},
   "outputs": [
    {
     "name": "stdout",
     "output_type": "stream",
     "text": [
      "Begin collection...\n",
      "\n",
      "Parsing information on:\n",
      "\n",
      "movie  id\n",
      "movie  title\n"
     ]
    },
    {
     "ename": "KeyboardInterrupt",
     "evalue": "",
     "output_type": "error",
     "traceback": [
      "\u001b[0;31m---------------------------------------------------------------------------\u001b[0m",
      "\u001b[0;31mKeyboardInterrupt\u001b[0m                         Traceback (most recent call last)",
      "\u001b[0;32m<ipython-input-23-f6f6e777af9f>\u001b[0m in \u001b[0;36m<module>\u001b[0;34m\u001b[0m\n\u001b[1;32m     38\u001b[0m \u001b[0;34m\u001b[0m\u001b[0m\n\u001b[1;32m     39\u001b[0m         \u001b[0;32mif\u001b[0m \u001b[0mcount\u001b[0m \u001b[0;34m>\u001b[0m \u001b[0;36m38\u001b[0m\u001b[0;34m:\u001b[0m\u001b[0;34m\u001b[0m\u001b[0;34m\u001b[0m\u001b[0m\n\u001b[0;32m---> 40\u001b[0;31m             \u001b[0mtime\u001b[0m\u001b[0;34m.\u001b[0m\u001b[0msleep\u001b[0m\u001b[0;34m(\u001b[0m\u001b[0;36m9\u001b[0m\u001b[0;34m)\u001b[0m\u001b[0;34m\u001b[0m\u001b[0;34m\u001b[0m\u001b[0m\n\u001b[0m\u001b[1;32m     41\u001b[0m             \u001b[0mcount\u001b[0m \u001b[0;34m=\u001b[0m \u001b[0;36m0\u001b[0m\u001b[0;34m\u001b[0m\u001b[0;34m\u001b[0m\u001b[0m\n\u001b[1;32m     42\u001b[0m \u001b[0;34m\u001b[0m\u001b[0m\n",
      "\u001b[0;31mKeyboardInterrupt\u001b[0m: "
     ]
    }
   ],
   "source": [
    "# FETCH MOVIE FEATURES USING TMDB API \n",
    "\n",
    "movieID = TM_id.iloc[:,1]\n",
    "movie = Movie()\n",
    "\n",
    "features = {}\n",
    "count = 0\n",
    "Vars = ['id','title','revenue', 'budget', 'adult', 'runtime', 'popularity','vote_average', 'vote_count', 'original_language',\n",
    "        'release_date', 'production_countries', 'production_companies']\n",
    "\n",
    "print(\"Begin collection...\\n\\nParsing information on:\\n\")\n",
    "for name in Vars:\n",
    "    temp = []\n",
    "\n",
    "    print(\"movie \", name)\n",
    "    \n",
    "    for Id in movieID[0:1000]:\n",
    "\n",
    "        count += 1\n",
    "        m = movie.details(Id)\n",
    "        \n",
    "        try:\n",
    "            val = getattr(m, name)\n",
    "            if name == \"production_countries\":\n",
    "                val = val[0]['iso_3166_1']\n",
    "\n",
    "            elif name == \"production_companies\":\n",
    "                val = val[0]['name']\n",
    "\n",
    "        except:\n",
    "            val = np.nan\n",
    "        \n",
    "        temp.append(val)\n",
    "        \n",
    "        if count > 38:\n",
    "            time.sleep(9)\n",
    "            count = 0\n",
    "        \n",
    "    features[name] = temp\n",
    "\n",
    "featuresDF = pd.DataFrame(features)\n",
    "featuresDF.to_csv(\"MovieFeatures.csv\")"
   ]
  },
  {
   "cell_type": "code",
   "execution_count": 22,
   "metadata": {},
   "outputs": [
    {
     "data": {
      "text/plain": [
       "9734"
      ]
     },
     "execution_count": 22,
     "metadata": {},
     "output_type": "execute_result"
    }
   ],
   "source": [
    "len(movieID)\n",
    "len(np.unique(movieID))"
   ]
  },
  {
   "cell_type": "markdown",
   "metadata": {},
   "source": [
    "## Matrix Imputation from Julia code \n",
    "\n",
    "---"
   ]
  },
  {
   "cell_type": "markdown",
   "metadata": {},
   "source": [
    "## Recommendation system"
   ]
  },
  {
   "cell_type": "code",
   "execution_count": 7,
   "metadata": {},
   "outputs": [],
   "source": [
    "# IMPORT REQUIRED PACKAGES \n",
    "from sklearn.cluster import KMeans\n",
    "import matplotlib.pyplot as plt"
   ]
  },
  {
   "cell_type": "code",
   "execution_count": 8,
   "metadata": {},
   "outputs": [],
   "source": [
    "# READ-IN COMPLETE RATINGS DATASET\n",
    "fullRatings = pd.read_csv(\"imputed.csv\", header = None)"
   ]
  },
  {
   "cell_type": "markdown",
   "metadata": {},
   "source": [
    "### Clustering "
   ]
  },
  {
   "cell_type": "code",
   "execution_count": 14,
   "metadata": {},
   "outputs": [
    {
     "data": {
      "text/plain": [
       "[<matplotlib.lines.Line2D at 0x1181f14e0>]"
      ]
     },
     "execution_count": 14,
     "metadata": {},
     "output_type": "execute_result"
    },
    {
     "data": {
      "image/png": "[encoded data removed]",
      "text/plain": [
       "<Figure size 432x288 with 1 Axes>"
      ]
     },
     "metadata": {
      "needs_background": "light"
     },
     "output_type": "display_data"
    }
   ],
   "source": [
    "# PERFORM SEVERAL TYPES OF CLUSTERING AND INTERPRET DIFFERENT RESULTS \n",
    "\n",
    "# K-MEANS CLUSTERING on FULL MATRIX\n",
    "SSEs = []\n",
    "\n",
    "for k in range(1, 100):\n",
    "    kmeans = KMeans(n_clusters=k, random_state=0, n_init = 25).fit(fullRatings)\n",
    "    SSEs.append(kmeans.inertia_)\n",
    "    \n",
    "plt.plot(range(1,100), SSEs, 'k')\n",
    "plt.xlabel(\"Number of clusters\")\n",
    "plt.ylabel(\"Intertia, SSD\")"
   ]
  },
  {
   "cell_type": "code",
   "execution_count": 21,
   "metadata": {},
   "outputs": [
    {
     "data": {
      "text/plain": [
       "Text(0, 0.5, 'Intertia, SSD')"
      ]
     },
     "execution_count": 21,
     "metadata": {},
     "output_type": "execute_result"
    },
    {
     "data": {
      "image/png": "[encoded data removed]",
      "text/plain": [
       "<Figure size 432x288 with 1 Axes>"
      ]
     },
     "metadata": {
      "needs_background": "light"
     },
     "output_type": "display_data"
    }
   ],
   "source": [
    "# K-MEANS CLUSTERING on USER RANK MATRIX \n",
    "SSE_u = []\n",
    "\n",
    "fullUser =  pd.read_csv(\"userImp.csv\", header = None)\n",
    "for k in range(1,30):\n",
    "    kmUser = KMeans(n_clusters=k, random_state=0, n_init = 50).fit(fullUser)\n",
    "    SSE_u.append(kmUser.inertia_)\n",
    "    \n",
    "plt.plot(range(1, 30), SSE_u, 'k')\n",
    "plt.xlabel(\"Number of clusters\")\n",
    "plt.ylabel(\"Intertia, SSD\")"
   ]
  },
  {
   "cell_type": "markdown",
   "metadata": {},
   "source": [
    "**We observe similar elbow plots for the dependence of sum of squared distances (SSD) with number of clusters. This is indicative of a low-rank behaviour, where users base their movie ratings on few parameters only, independent of the specific movie. Consequently, we can perform analysis on the rank-user matrix, and use OCTs to interpret the experimental results**.\n",
    "\n",
    "---"
   ]
  },
  {
   "cell_type": "code",
   "execution_count": 25,
   "metadata": {},
   "outputs": [],
   "source": [
    "# RE-RUN CLUSTERING ON K= {6, 10} and RETRIEVE ASSOCIATED LABELS\n",
    "labels = {}\n",
    "\n",
    "for k in range(6,11):\n",
    "    kmUser = KMeans(n_clusters=k, random_state=0, n_init = 50).fit(fullUser)\n",
    "    labels['label'+ str(k)] = (kmUser.labels_)\n",
    "    \n",
    "# MERGE LABELS WITH ORIGINAL MATRIX and SAVE CSV FILE\n",
    "labels2 = pd.DataFrame(labels)\n",
    "fullMat = fullUser.join(labels2)\n",
    "\n",
    "fullMat.to_csv(\"labeledRatings.csv\")"
   ]
  }
 ],
 "metadata": {
  "kernelspec": {
   "display_name": "Python 3",
   "language": "python",
   "name": "python3"
  },
  "language_info": {
   "codemirror_mode": {
    "name": "ipython",
    "version": 3
   },
   "file_extension": ".py",
   "mimetype": "text/x-python",
   "name": "python",
   "nbconvert_exporter": "python",
   "pygments_lexer": "ipython3",
   "version": "3.7.3"
  }
 },
 "nbformat": 4,
 "nbformat_minor": 2
}
